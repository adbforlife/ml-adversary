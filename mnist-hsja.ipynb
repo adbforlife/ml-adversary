{
 "cells": [
  {
   "cell_type": "markdown",
   "metadata": {},
   "source": [
    "## ART BlackBox Classifier"
   ]
  },
  {
   "cell_type": "markdown",
   "metadata": {},
   "source": [
    "This demo consists of two parts. The first part trains and saves the weights of a simple neural network for the MNIST dataset. The second attacks the deployed model with the HopSkipJump attack using only the model predictions."
   ]
  },
  {
   "cell_type": "code",
   "execution_count": 1,
   "metadata": {},
   "outputs": [],
   "source": [
    "from __future__ import absolute_import, division, print_function, unicode_literals\n",
    "\n",
    "import numpy as np\n",
    "from IPython.display import clear_output\n",
    "from matplotlib import pyplot as plt\n",
    "\n",
    "from art import config\n",
    "from art.estimators.classification import BlackBoxClassifier\n",
    "from art.attacks.evasion import HopSkipJump\n",
    "from art.utils import to_categorical\n",
    "from art.utils import load_dataset, get_file, compute_accuracy"
   ]
  },
  {
   "cell_type": "markdown",
   "metadata": {},
   "source": [
    "### Create and Train a model"
   ]
  },
  {
   "cell_type": "markdown",
   "metadata": {},
   "source": [
    "In this first part of the demo, we train a simple model and train it using the MNIST dataset. This code is largely taken and modified from the tutorial found here: https://www.tensorflow.org/tutorials/keras/save_and_load "
   ]
  },
  {
   "cell_type": "code",
   "execution_count": 2,
   "metadata": {},
   "outputs": [
    {
     "name": "stderr",
     "output_type": "stream",
     "text": [
      "WARNING:root:Limited tf.compat.v2.summary API due to missing TensorBoard installation.\n",
      "WARNING:root:Limited tf.compat.v2.summary API due to missing TensorBoard installation.\n",
      "WARNING:root:Limited tf.compat.v2.summary API due to missing TensorBoard installation.\n",
      "WARNING:root:Limited tf.summary API due to missing TensorBoard installation.\n"
     ]
    },
    {
     "name": "stdout",
     "output_type": "stream",
     "text": [
      "2.4.1\n"
     ]
    }
   ],
   "source": [
    "import os\n",
    "\n",
    "import tensorflow as tf\n",
    "from tensorflow import keras\n",
    "\n",
    "print(tf.version.VERSION)"
   ]
  },
  {
   "cell_type": "code",
   "execution_count": 3,
   "metadata": {},
   "outputs": [],
   "source": [
    "(train_images, train_labels), (test_images, test_labels) = tf.keras.datasets.mnist.load_data()\n",
    "num_train = 10000\n",
    "train_labels = train_labels[:num_train]\n",
    "test_labels = test_labels[:num_train]\n",
    "\n",
    "train_images = train_images[:num_train].reshape(-1, 28 * 28) / 255.0\n",
    "test_images = test_images[:num_train].reshape(-1, 28 * 28) / 255.0"
   ]
  },
  {
   "cell_type": "code",
   "execution_count": 4,
   "metadata": {},
   "outputs": [
    {
     "name": "stdout",
     "output_type": "stream",
     "text": [
      "Model: \"sequential\"\n",
      "_________________________________________________________________\n",
      "Layer (type)                 Output Shape              Param #   \n",
      "=================================================================\n",
      "dense (Dense)                (None, 512)               401920    \n",
      "_________________________________________________________________\n",
      "dropout (Dropout)            (None, 512)               0         \n",
      "_________________________________________________________________\n",
      "dense_1 (Dense)              (None, 10)                5130      \n",
      "=================================================================\n",
      "Total params: 407,050\n",
      "Trainable params: 407,050\n",
      "Non-trainable params: 0\n",
      "_________________________________________________________________\n"
     ]
    }
   ],
   "source": [
    "# Define a simple sequential model\n",
    "def create_model():\n",
    "  model = tf.keras.models.Sequential([\n",
    "    keras.layers.Dense(512, activation='relu', input_shape=(784,)),\n",
    "    keras.layers.Dropout(0.2),\n",
    "    keras.layers.Dense(10)\n",
    "  ])\n",
    "\n",
    "  model.compile(optimizer='adam',\n",
    "                loss=tf.losses.SparseCategoricalCrossentropy(from_logits=True),\n",
    "                metrics=[tf.metrics.SparseCategoricalAccuracy()])\n",
    "\n",
    "  return model\n",
    "\n",
    "# Create a basic model instance\n",
    "model = create_model()\n",
    "\n",
    "# Display the model's architecture\n",
    "model.summary()"
   ]
  },
  {
   "cell_type": "code",
   "execution_count": 5,
   "metadata": {},
   "outputs": [
    {
     "name": "stdout",
     "output_type": "stream",
     "text": [
      "Epoch 1/10\n",
      "313/313 [==============================] - 10s 30ms/step - loss: 0.6848 - sparse_categorical_accuracy: 0.8024 - val_loss: 0.2491 - val_sparse_categorical_accuracy: 0.9267\n",
      "\n",
      "Epoch 00001: saving model to ../training_1/cp.ckpt\n",
      "Epoch 2/10\n",
      "313/313 [==============================] - 7s 21ms/step - loss: 0.2022 - sparse_categorical_accuracy: 0.9431 - val_loss: 0.2072 - val_sparse_categorical_accuracy: 0.9363\n",
      "\n",
      "Epoch 00002: saving model to ../training_1/cp.ckpt\n",
      "Epoch 3/10\n",
      "313/313 [==============================] - 6s 19ms/step - loss: 0.1265 - sparse_categorical_accuracy: 0.9631 - val_loss: 0.1609 - val_sparse_categorical_accuracy: 0.9514\n",
      "\n",
      "Epoch 00003: saving model to ../training_1/cp.ckpt\n",
      "Epoch 4/10\n",
      "313/313 [==============================] - 6s 20ms/step - loss: 0.0970 - sparse_categorical_accuracy: 0.9722 - val_loss: 0.1718 - val_sparse_categorical_accuracy: 0.9495\n",
      "\n",
      "Epoch 00004: saving model to ../training_1/cp.ckpt\n",
      "Epoch 5/10\n",
      "313/313 [==============================] - 7s 23ms/step - loss: 0.0653 - sparse_categorical_accuracy: 0.9815 - val_loss: 0.1499 - val_sparse_categorical_accuracy: 0.9542\n",
      "\n",
      "Epoch 00005: saving model to ../training_1/cp.ckpt\n",
      "Epoch 6/10\n",
      "313/313 [==============================] - 7s 22ms/step - loss: 0.0444 - sparse_categorical_accuracy: 0.9902 - val_loss: 0.1371 - val_sparse_categorical_accuracy: 0.9579\n",
      "\n",
      "Epoch 00006: saving model to ../training_1/cp.ckpt\n",
      "Epoch 7/10\n",
      "313/313 [==============================] - 8s 24ms/step - loss: 0.0391 - sparse_categorical_accuracy: 0.9902 - val_loss: 0.1496 - val_sparse_categorical_accuracy: 0.9552\n",
      "\n",
      "Epoch 00007: saving model to ../training_1/cp.ckpt\n",
      "Epoch 8/10\n",
      "313/313 [==============================] - 8s 24ms/step - loss: 0.0302 - sparse_categorical_accuracy: 0.9916 - val_loss: 0.1386 - val_sparse_categorical_accuracy: 0.9584\n",
      "\n",
      "Epoch 00008: saving model to ../training_1/cp.ckpt\n",
      "Epoch 9/10\n",
      "313/313 [==============================] - 7s 23ms/step - loss: 0.0222 - sparse_categorical_accuracy: 0.9951 - val_loss: 0.1435 - val_sparse_categorical_accuracy: 0.9572\n",
      "\n",
      "Epoch 00009: saving model to ../training_1/cp.ckpt\n",
      "Epoch 10/10\n",
      "313/313 [==============================] - 7s 23ms/step - loss: 0.0174 - sparse_categorical_accuracy: 0.9960 - val_loss: 0.1581 - val_sparse_categorical_accuracy: 0.9565\n",
      "\n",
      "Epoch 00010: saving model to ../training_1/cp.ckpt\n"
     ]
    },
    {
     "data": {
      "text/plain": [
       "<tensorflow.python.keras.callbacks.History at 0x7fb390564550>"
      ]
     },
     "execution_count": 5,
     "metadata": {},
     "output_type": "execute_result"
    }
   ],
   "source": [
    "checkpoint_path = \"../training_1/cp.ckpt\"\n",
    "checkpoint_dir = os.path.dirname(checkpoint_path)\n",
    "\n",
    "# Create a callback that saves the model's weights\n",
    "cp_callback = tf.keras.callbacks.ModelCheckpoint(filepath=checkpoint_path,\n",
    "                                                 save_weights_only=True,\n",
    "                                                 verbose=1)\n",
    "\n",
    "# Train the model with the new callback\n",
    "model.fit(train_images, \n",
    "          train_labels,  \n",
    "          epochs=10,\n",
    "          validation_data=(test_images, test_labels),\n",
    "          callbacks=[cp_callback])  # Pass callback to training\n",
    "\n",
    "# This may generate warnings related to saving the state of the optimizer.\n",
    "# These warnings (and similar warnings throughout this notebook)\n",
    "# are in place to discourage outdated usage, and can be ignored."
   ]
  },
  {
   "cell_type": "code",
   "execution_count": 9,
   "metadata": {},
   "outputs": [
    {
     "name": "stdout",
     "output_type": "stream",
     "text": [
      "313/313 - 2s - loss: 0.1581 - sparse_categorical_accuracy: 0.9565\n",
      "Restored model, accuracy: 95.65%\n"
     ]
    }
   ],
   "source": [
    "# Create a basic model instance\n",
    "model = create_model()\n",
    "\n",
    "# Loads the weights\n",
    "model.load_weights(checkpoint_path)\n",
    "\n",
    "# Re-evaluate the model\n",
    "loss, acc = model.evaluate(test_images, test_labels, verbose=2)\n",
    "print(\"Restored model, accuracy: {:5.2f}%\".format(100 * acc))"
   ]
  },
  {
   "cell_type": "code",
   "execution_count": 10,
   "metadata": {},
   "outputs": [
    {
     "name": "stdout",
     "output_type": "stream",
     "text": [
      "(1, 784)\n",
      "4\n"
     ]
    },
    {
     "data": {
      "image/png": "[encoded data removed]",
      "text/plain": [
       "<Figure size 432x288 with 1 Axes>"
      ]
     },
     "metadata": {
      "needs_background": "light"
     },
     "output_type": "display_data"
    }
   ],
   "source": [
    "# Display a sample of the MNIST input and a sample prediction from the trained model\n",
    "from random import randint\n",
    "lucky_num = randint(0, 1000)\n",
    "target_image = train_images[lucky_num:lucky_num+1]\n",
    "print(target_image.shape)\n",
    "predictions = model.predict(target_image)\n",
    "print(np.argmax(predictions))\n",
    "plt.imshow(np.reshape(target_image.astype(np.float32), (28, 28)))\n",
    "plt.show(block=False)"
   ]
  },
  {
   "cell_type": "markdown",
   "metadata": {},
   "source": [
    "### Make predictions"
   ]
  },
  {
   "cell_type": "markdown",
   "metadata": {},
   "source": [
    "We create a black box classifier using the model trained above."
   ]
  },
  {
   "cell_type": "code",
   "execution_count": 11,
   "metadata": {},
   "outputs": [
    {
     "name": "stdout",
     "output_type": "stream",
     "text": [
      "(784,)\n"
     ]
    }
   ],
   "source": [
    "def predict(x):\n",
    "    x = np.array(x)\n",
    "    return model.predict(x)\n",
    "    \n",
    "# Create blackbox object\n",
    "print(train_images[0].shape)\n",
    "classifier = BlackBoxClassifier(predict, train_images[0].shape, 10, clip_values=(0, 255))"
   ]
  },
  {
   "cell_type": "code",
   "execution_count": 12,
   "metadata": {},
   "outputs": [
    {
     "name": "stdout",
     "output_type": "stream",
     "text": [
      "(1, 784)\n"
     ]
    },
    {
     "data": {
      "image/png": "[encoded data removed]",
      "text/plain": [
       "<Figure size 432x288 with 1 Axes>"
      ]
     },
     "metadata": {
      "needs_background": "light"
     },
     "output_type": "display_data"
    },
    {
     "name": "stdout",
     "output_type": "stream",
     "text": [
      "[[-11.709108   -1.3560646  -6.854515    4.0799847 -16.513319   16.354774\n",
      "   -3.9070418 -18.832949   -1.8973945  -4.505822 ]]\n",
      "Prediction from API is: 5\n"
     ]
    }
   ],
   "source": [
    "# Select target image and show prediction of the classifier for the target image\n",
    "from random import randint\n",
    "lucky_num = randint(0, 1000)\n",
    "target_image =train_images[lucky_num].reshape(1, 784)\n",
    "print(target_image.shape)\n",
    "plt.imshow(np.reshape(target_image.astype(np.float32), (28, 28)))\n",
    "plt.show(block=False)\n",
    "print(classifier.predict(target_image))\n",
    "print('Prediction from API is: ' + str(np.argmax(classifier.predict(target_image), axis=1)[0]))"
   ]
  },
  {
   "cell_type": "markdown",
   "metadata": {},
   "source": [
    "### Generate black box HopSkipJump attack"
   ]
  },
  {
   "cell_type": "markdown",
   "metadata": {},
   "source": [
    "This code makes use of the HopSkipJump classifier implementation and also the Classifier wrapper implementation taken from the Adversarial Robustness Toolbox library. This library can be found here: https://github.com/Trusted-AI/adversarial-robustness-toolbox"
   ]
  },
  {
   "cell_type": "markdown",
   "metadata": {},
   "source": [
    "Firstly, we show how to conduct an untargetted attack, with 3 iterations of the HopSkipJumpAttack. This simply adds noise to the original image to make our victim classifier model misclassify the pertubed (noise added) image."
   ]
  },
  {
   "cell_type": "code",
   "execution_count": 13,
   "metadata": {},
   "outputs": [
    {
     "name": "stdout",
     "output_type": "stream",
     "text": [
      "WARNING:tensorflow:Model was constructed with shape (None, 784) for input KerasTensor(type_spec=TensorSpec(shape=(None, 784), dtype=tf.float32, name='dense_2_input'), name='dense_2_input', description=\"created by layer 'dense_2_input'\"), but it was called on an input with incompatible shape (None, 1, 784).\n"
     ]
    },
    {
     "name": "stderr",
     "output_type": "stream",
     "text": [
      "WARNING:tensorflow:Model was constructed with shape (None, 784) for input KerasTensor(type_spec=TensorSpec(shape=(None, 784), dtype=tf.float32, name='dense_2_input'), name='dense_2_input', description=\"created by layer 'dense_2_input'\"), but it was called on an input with incompatible shape (None, 1, 784).\n"
     ]
    },
    {
     "data": {
      "application/vnd.jupyter.widget-view+json": {
       "model_id": "6e5e6a4f96824ccbae68153376ea7e8e",
       "version_major": 2,
       "version_minor": 0
      },
      "text/plain": [
       "HopSkipJump:   0%|          | 0/1 [00:00<?, ?it/s]"
      ]
     },
     "metadata": {},
     "output_type": "display_data"
    },
    {
     "name": "stdout",
     "output_type": "stream",
     "text": [
      "Adversarial image at step 0. L2 error 16.335516211183432 and class label 3.\n"
     ]
    },
    {
     "data": {
      "image/png": "[encoded data removed]",
      "text/plain": [
       "<Figure size 432x288 with 1 Axes>"
      ]
     },
     "metadata": {
      "needs_background": "light"
     },
     "output_type": "display_data"
    },
    {
     "data": {
      "application/vnd.jupyter.widget-view+json": {
       "model_id": "1a058f0507e54f8f9d401a379374bd6d",
       "version_major": 2,
       "version_minor": 0
      },
      "text/plain": [
       "HopSkipJump:   0%|          | 0/1 [00:00<?, ?it/s]"
      ]
     },
     "metadata": {},
     "output_type": "display_data"
    },
    {
     "name": "stdout",
     "output_type": "stream",
     "text": [
      "Adversarial image at step 10. L2 error 4.301245783255137 and class label 3.\n"
     ]
    },
    {
     "data": {
      "image/png": "[encoded data removed]",
      "text/plain": [
       "<Figure size 432x288 with 1 Axes>"
      ]
     },
     "metadata": {
      "needs_background": "light"
     },
     "output_type": "display_data"
    },
    {
     "data": {
      "application/vnd.jupyter.widget-view+json": {
       "model_id": "c4969f6d15744bf085ea569d18059843",
       "version_major": 2,
       "version_minor": 0
      },
      "text/plain": [
       "HopSkipJump:   0%|          | 0/1 [00:00<?, ?it/s]"
      ]
     },
     "metadata": {},
     "output_type": "display_data"
    },
    {
     "name": "stdout",
     "output_type": "stream",
     "text": [
      "Adversarial image at step 20. L2 error 3.3263644770729064 and class label 3.\n"
     ]
    },
    {
     "data": {
      "image/png": "[encoded data removed]",
      "text/plain": [
       "<Figure size 432x288 with 1 Axes>"
      ]
     },
     "metadata": {
      "needs_background": "light"
     },
     "output_type": "display_data"
    }
   ],
   "source": [
    "# Generate HopSkipJump attack against black box classifier\n",
    "attack = HopSkipJump(classifier=classifier, targeted=False, max_iter=0, max_eval=1000, init_eval=10)\n",
    "iter_step = 10\n",
    "x_adv = None\n",
    "for i in range(3):\n",
    "    x_adv = attack.generate(x=np.array([target_image]), x_adv_init=x_adv)\n",
    "    print(\"Adversarial image at step %d.\" % (i * iter_step), \"L2 error\", \n",
    "          np.linalg.norm(np.reshape(x_adv[0] - target_image, [-1])),\n",
    "          \"and class label %d.\" % np.argmax(classifier.predict(x_adv)[0]))\n",
    "    plt.imshow(np.reshape(x_adv[0].astype(np.float32), (28, 28)))\n",
    "    plt.show(block=False)\n",
    "    \n",
    "    attack.max_iter = iter_step"
   ]
  },
  {
   "cell_type": "markdown",
   "metadata": {},
   "source": [
    "Next, we show how to conduct an targetted attack, with 3 iterations of the HopSkipJumpAttack. We specify a target label '7', and also a target image we initialize the pertubation. "
   ]
  },
  {
   "cell_type": "code",
   "execution_count": null,
   "metadata": {},
   "outputs": [
    {
     "name": "stdout",
     "output_type": "stream",
     "text": [
      "Target image: \n"
     ]
    },
    {
     "data": {
      "image/png": "[encoded data removed]",
      "text/plain": [
       "<Figure size 432x288 with 1 Axes>"
      ]
     },
     "metadata": {
      "needs_background": "light"
     },
     "output_type": "display_data"
    },
    {
     "name": "stdout",
     "output_type": "stream",
     "text": [
      "Adv image: \n"
     ]
    },
    {
     "data": {
      "image/png": "[encoded data removed]",
      "text/plain": [
       "<Figure size 432x288 with 1 Axes>"
      ]
     },
     "metadata": {
      "needs_background": "light"
     },
     "output_type": "display_data"
    },
    {
     "data": {
      "application/vnd.jupyter.widget-view+json": {
       "model_id": "c2188c8c57c14bc3aa8ab87dcaf5dec4",
       "version_major": 2,
       "version_minor": 0
      },
      "text/plain": [
       "HopSkipJump:   0%|          | 0/1 [00:00<?, ?it/s]"
      ]
     },
     "metadata": {},
     "output_type": "display_data"
    },
    {
     "name": "stdout",
     "output_type": "stream",
     "text": [
      "Adversarial image at step 0. L2 error 10.714331961487597 and class label 7.\n"
     ]
    },
    {
     "data": {
      "image/png": "[encoded data removed]",
      "text/plain": [
       "<Figure size 432x288 with 1 Axes>"
      ]
     },
     "metadata": {
      "needs_background": "light"
     },
     "output_type": "display_data"
    },
    {
     "data": {
      "application/vnd.jupyter.widget-view+json": {
       "model_id": "51bad733368943758bbcf1e06a8d4d1d",
       "version_major": 2,
       "version_minor": 0
      },
      "text/plain": [
       "HopSkipJump:   0%|          | 0/1 [00:00<?, ?it/s]"
      ]
     },
     "metadata": {},
     "output_type": "display_data"
    },
    {
     "name": "stdout",
     "output_type": "stream",
     "text": [
      "Adversarial image at step 10. L2 error 7.967506276066212 and class label 7.\n"
     ]
    },
    {
     "data": {
      "image/png": "[encoded data removed]",
      "text/plain": [
       "<Figure size 432x288 with 1 Axes>"
      ]
     },
     "metadata": {
      "needs_background": "light"
     },
     "output_type": "display_data"
    },
    {
     "data": {
      "application/vnd.jupyter.widget-view+json": {
       "model_id": "ca195a914baa407f9d66fdcacbf48c25",
       "version_major": 2,
       "version_minor": 0
      },
      "text/plain": [
       "HopSkipJump:   0%|          | 0/1 [00:00<?, ?it/s]"
      ]
     },
     "metadata": {},
     "output_type": "display_data"
    }
   ],
   "source": [
    "# Generate HopSkipJump attack against black box classifier\n",
    "attack = HopSkipJump(classifier=classifier, targeted=True, max_iter=0, max_eval=1000, init_eval=5)\n",
    "target_label = np.array(test_images[:1])\n",
    "print(\"Target image: \")\n",
    "plt.imshow(np.reshape(target_image.astype(np.float32), (28, 28)))\n",
    "plt.show(block=False)\n",
    "print(\"Adv image: \")\n",
    "plt.imshow(np.reshape(target_label.astype(np.float32), (28, 28)))\n",
    "plt.show(block=False)\n",
    "iter_step = 10\n",
    "x_adv = target_label\n",
    "for i in range(3):\n",
    "    x_adv = attack.generate(x=np.array([target_image]), x_adv_init=x_adv, y=[7])\n",
    "    print(\"Adversarial image at step %d.\" % (i * iter_step), \"L2 error\", \n",
    "          np.linalg.norm(np.reshape(x_adv[0] - target_image, [-1])),\n",
    "          \"and class label %d.\" % np.argmax(classifier.predict(x_adv)[0]))\n",
    "    plt.imshow(np.reshape(x_adv[0].astype(np.float32), (28, 28)))\n",
    "    plt.show(block=False)\n",
    "    \n",
    "    attack.max_iter = iter_step"
   ]
  }
 ],
 "metadata": {
  "kernelspec": {
   "display_name": "Python 3",
   "language": "python",
   "name": "python3"
  },
  "language_info": {
   "codemirror_mode": {
    "name": "ipython",
    "version": 3
   },
   "file_extension": ".py",
   "mimetype": "text/x-python",
   "name": "python",
   "nbconvert_exporter": "python",
   "pygments_lexer": "ipython3",
   "version": "3.9.2"
  }
 },
 "nbformat": 4,
 "nbformat_minor": 2
}
